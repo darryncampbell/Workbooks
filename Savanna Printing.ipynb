{
 "cells": [
  {
   "cell_type": "markdown",
   "metadata": {},
   "source": [
    "# Savanna Print API - Quickstart"
   ]
  },
  {
   "cell_type": "markdown",
   "metadata": {},
   "source": [
    "This notebook shows you how to get started with Zebra's Savanna APIs related to [Printing](https://developer.zebra.com/printers-print/apis).  \n"
   ]
  },
  {
   "cell_type": "markdown",
   "metadata": {},
   "source": [
    "**These APIs are still at the [prototype](https://developer.zebra.com/sandbox-prototypes) stage and are subject to change without warning**"
   ]
  },
  {
   "cell_type": "markdown",
   "metadata": {},
   "source": [
    "## Setup"
   ]
  },
  {
   "cell_type": "markdown",
   "metadata": {},
   "source": [
    "- In order to run the sample code in this guide you will need an API key, to obtain an API key follow the instructions detailed on the Zebra developer portal at https://developer.zebra.com/getting-started-0\n",
    "- Once you have created a login to the developer portal and created an application you must ensure you have the **Printer Sandbox** package associated with your application.  This may have been done automatically and you can verify this from the [account apps overview](https://developer.zebra.com/user/me/apps)\n",
    "\n",
    "To run a cell:\n",
    "\n",
    "- Click anywhere in the code block.\n",
    "- Click the play button in the top-left of the code block"
   ]
  },
  {
   "cell_type": "code",
   "execution_count": null,
   "metadata": {},
   "outputs": [],
   "source": [
    "# Paste your API key below, this might also be called the 'Consumer Key' on the portal\n",
    "api_key = ''\n",
    "\n",
    "print(\"API Key is: \" + api_key)"
   ]
  },
  {
   "cell_type": "markdown",
   "metadata": {},
   "source": [
    "## Printing"
   ]
  },
  {
   "cell_type": "markdown",
   "metadata": {},
   "source": [
    "Printing is achieved by sending ZPL commands to your printer serial number.  As long as the printer has had an external network connection it would have already registered with the Savanna portal automatically so there is no need to perform a registration step.  Ensure your printer is turned on and has network connection capable of communicating with the Savanna cloud.\n",
    "\n",
    "ZPL can be generated with the [Zebra label designer](https://www.zebra.com/gb/en/products/software/barcode-printers/zebralink/zebra-designer.html)"
   ]
  },
  {
   "cell_type": "code",
   "execution_count": null,
   "metadata": {},
   "outputs": [],
   "source": [
    "# The following example ZPL defines a label with some sample images and text\n",
    "zpl = 'CT~~CD,~CC^~CT~^XA~TA000~JSN^LT0^MNN^MTD^PON^PMN^LH0,0^JMA^PR5,5~SD10^JUS^LRN^CI0^XZ^XA^MMT^PW406^LL0609^LS0^FO0,416^GFA,09984,09984,00052,:Z64:eJztmM+K5DYQxuX1gvcQ0AsMCPYSyCG55hCivEWu8yAD8m1fJUwgeQXDHvaYVzC57NW3NMTr2vojWSW3F0Y6zMk10DQ9/nW56lN9ktuYK6644oorrrjiiiuueN1480pMPzYwUwMzNzBLA3N7JWZrYKCFGV+F6WCuZkwLExqa7dd6xjUIZBuYoUmg+jxtAjVMUL1Ab4xvYOoF6hsE6scqgbrfiHmsmiAuvl+0QB3QigUMTL/gGgGYPb4sJuArFhE2Zsw9s0XG3zFAN4VepQTq6HMEA0zIdFAyK/4LJmTWQiDNzL1i6O0NFyfdFPqbW+8YDzPmGTLTCTMIA6MWCIAZx4y9YyylJEYLFIA+ujlKsrjM8G0ukelg6u8ZCzes55Sh4mHWAgXkE7P4zEhpxgkTCoF8YtaSsQWDnQ5LwQx0K8QE+n7FTMRQk10hkId/339Pymx4taiUmTHlsaueIC6bStw4D/aU9VhiqVhnvw74pydoZ4AZoxiIDFK4eJRAwkz4pScMmSHnQUZZXGIAPlA9iulApIt5elqsEnbP8wnzbAVDFex5lEDCjNi/I9Nzl0PKoyZo2JnPh3p2hvNoi0uMQ6asZ4grQJheTVBm/jvkEcYlZsyi9pGxxHitqeWG21hPP9pdIGGk58hMR4bMgPPMWSAUgGeIVwNPa2JcbG7Mg5ObBCKzwhbzKOs5VYzkuZmCQfFkLK1mfLwm5sHLxpLh9mnfUYzkwdvZFw8CiEkG7W88CorZjB8z0yVGjPDIdMKAcVPJOGGcYiDdv9SDMux5AjI3ujhEk44MjwLHk+SZhz1PAJLIs79pj5dRoPhZ8sz5NJ+YeYhGuDNpTT5InqUr8tDGMx2YfmfeSZ6b2fN4MgLDjlPok5m3kkdtJh6NgBiaAsue+MPzn7xNxhnzsdfbKYPrLa/rnXGbMOpo5eAfvIydAJk8P2kU8I3UozaTbzEuMQNwni/ZqzQz+4KZ5YIePvIaVZuJRWaKebzyg7SsUajPzKjNxEZL/CZj4H9m1GYysIXcM2GvOQAzardXzHzOGJlTtZkkZhxKr1JMx8wAB0bWm2a0hqsoNGqGVsPjUPhbFxTzREz2KnYcY9KOva83HJ/n5z/iNb+I72hmi1sX+dvv5ZlC4uHgOwcGzpjvmMm+050z8Rwi8Za9yh0Y8Td7zvz419/kVVYza9yGtPfGcwgHpqdOZ68yzPRH743nEA58j51WviOM7At99jenmIEuQSfLTJATGkDhb8zk1q76XJUYf/BrrxguuXiaEcYy408ZQ60tHjc9S9cxk8/xVNmWvxaqn0ze/0QLvo4xX8qD70uiW2kPnKqYgUwHHqsYu2KnKx83HZlO5eOmJ9NxtQx22tbdm6dRsHMVE8h08rb9Ymau/EEtHEbhJQFr/UM65nG1v7zAWv+QHugRo56p/pkr0APxVM2YWob8I4z1zK91CIvz0MC8q2Rsw89vfQPTNTDmqYG54oorrrjiNL4CVw3u4Q==:4FAE^FO288,192^GFA,02048,02048,00016,:Z64:eJzt0zEKwjAUBuDUInUQ4+Aej+AN4uatTDZHr5TNa3RzdexQ+kxIKH9eBRFLEekPoXw80ryQRIg5w+zEMvNZSIcmoerMVj8yu8zFn9mQTw3lkKZ3yVy9dDuW1SVa2WidrF3q9h5tUsfmlptSnZjHrr/zr8+fav/8fPj59edroxX7DvLtfeP3+VPz91HQlQgfFEnqFNhU/jbXYF/XYB3mw251+D9YBovcHbjMthcbbMDhgTu0Zj5Re0S7jd2jfS/cB1zPjy3248cKvPBjLeZMkCe+lvPb:4E27^FO0,192^GFA,02048,02048,00016,:Z64:eJzt1LEOgjAQBuAixrrV0Q3fBB/FN6GJg24+gj4KiYOrj4CTa90YiGdLq/wtJiYEjTHeQr4cJdceV8b+0YqBZDu0yKMSnRRx5Vnxq+fSd/pbFqQDDiA1psZZYHpq2ZNjZb1U1tx55VomKuuNq1iUvhOX3wbuO//K377+U/sP+xP279Ffde+//2yHfV92dlabdXYa+kJ0hoFKTkR7sCj03wzzJXT+AOZmPeyWm8+DI+MicN64LlCCU6+8esC9+44HHhOt0dPoOERPGAs9Qs/0FYte6BrRc22s7x9vixum6d9H:5E92^FT342,388^A0I,48,48^FB303,1,0,C^FH\\^FDSavanna ^FS^FT342,327^A0I,48,48^FB303,1,0,C^FH\\^FDData Services^FS^FO10,304^GB386,0,8^FS^BY3,4^FT354,47^B7I,4,0,,,N^FH\\^FDhttps://developer.zebra.com/community/tools/eaidata^FS^FT310,146^A0I,28,28^FH\\^FDLearn more here:^FS^PQ1,0,1,Y^XZ'\n",
    "\n",
    "print(\"ZPL is: \" + zpl)"
   ]
  },
  {
   "cell_type": "code",
   "execution_count": null,
   "metadata": {},
   "outputs": [],
   "source": [
    "# Define your printer serial number.  This can often be found listed on a sticker on the printer.\n",
    "# This printer must have an external network connection and support LinkOS\n",
    "printer_serial = ''\n",
    "\n",
    "print(\"Printer serial is: \" + printer_serial)"
   ]
  },
  {
   "cell_type": "markdown",
   "metadata": {},
   "source": [
    "The actual printing is achieved via a Savanna [REST API for Printing](https://developer.zebra.com/printers-print/apis).  Run the code below to print the ZPL to the previously specified printer serial number"
   ]
  },
  {
   "cell_type": "code",
   "execution_count": null,
   "metadata": {},
   "outputs": [],
   "source": [
    "import requests\n",
    "import json\n",
    "from requests.exceptions import HTTPError\n",
    "\n",
    "# Note the Sandbox API is being used, this will change in the future if the API is moved to production\n",
    "savanna_url = 'https://sandbox-api.zebra.com/v2/printers-basic/' + printer_serial + '/sendRawData'\n",
    "\n",
    "savanna_headers = {'apikey': api_key, 'content-Type':'application/json', 'accept':'application/json', 'cache-control': 'no-cache'}\n",
    "\n",
    "printBody = zpl\n",
    "\n",
    "try:\n",
    "    print(\"URL is: \" + savanna_url)\n",
    "    response = requests.post(url = savanna_url, headers = savanna_headers, data = printBody)\n",
    "    response.raise_for_status()\n",
    "except HTTPError as http_err:\n",
    "    print(f'HTTP error: {http_err}')\n",
    "    print(response.json())\n",
    "except Exception as err:\n",
    "    print(f'Other error: {err}')\n",
    "else:\n",
    "    print(json.dumps(response.json(), indent=4))"
   ]
  },
  {
   "cell_type": "markdown",
   "metadata": {},
   "source": [
    "After a few seconds, you should see the following printout appear:"
   ]
  },
  {
   "cell_type": "markdown",
   "metadata": {},
   "source": [
    "![Printout](https://raw.githubusercontent.com/darryncampbell/Workbooks/master/media/printer-basic.jpg)"
   ]
  }
 ],
 "metadata": {
  "kernelspec": {
   "display_name": "Python 3",
   "language": "python",
   "name": "python3"
  },
  "language_info": {
   "codemirror_mode": {
    "name": "ipython",
    "version": 3
   },
   "file_extension": ".py",
   "mimetype": "text/x-python",
   "name": "python",
   "nbconvert_exporter": "python",
   "pygments_lexer": "ipython3",
   "version": "3.7.3"
  }
 },
 "nbformat": 4,
 "nbformat_minor": 2
}
