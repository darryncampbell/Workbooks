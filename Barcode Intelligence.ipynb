{
 "cells": [
  {
   "cell_type": "markdown",
   "metadata": {},
   "source": [
    "# Savanna Barcode Intelligence - Quickstart"
   ]
  },
  {
   "cell_type": "markdown",
   "metadata": {},
   "source": [
    "This notebook shows you how to get started with Zebra's Savanna APIs related to Barcode Intelligence\n",
    "- UPC Lookup\n",
    "- Barcode Creation\n",
    "- FDA recall information for both food and drugs"
   ]
  },
  {
   "cell_type": "markdown",
   "metadata": {},
   "source": [
    "## Setup"
   ]
  },
  {
   "cell_type": "markdown",
   "metadata": {},
   "source": [
    "* In order to run the sample code in this guide you will need an API key, to obtain an API key follow the instructions detailed on the Zebra developer portal at **https://developer.zebra.com/getting-started-0**\n",
    "* Once you have created a login to the developer portal and created an application you must ensure you have selected the **Barcode Intelligence** package and **associated this with your application**\n",
    "\n",
    "To run a cell:\n",
    "- Click anywhere in the code block.\n",
    "- Click the play button in the top-left of the code block"
   ]
  },
  {
   "cell_type": "code",
   "execution_count": 122,
   "metadata": {},
   "outputs": [],
   "source": [
    "# Paste your API key below, this might also be called the 'Consumer Key' on the portal\n",
    "api_key = ''"
   ]
  },
  {
   "cell_type": "code",
   "execution_count": 313,
   "metadata": {},
   "outputs": [
    {
     "name": "stdout",
     "output_type": "stream",
     "text": [
      "Your API key is: \n"
     ]
    }
   ],
   "source": [
    "print('Your API key is: ' + api_key)"
   ]
  },
  {
   "cell_type": "markdown",
   "metadata": {},
   "source": [
    "## UPC Lookup"
   ]
  },
  {
   "cell_type": "markdown",
   "metadata": {},
   "source": [
    "The UPC Lookup API provides product descriptions, photos and pricing for a wide range of products"
   ]
  },
  {
   "cell_type": "code",
   "execution_count": 337,
   "metadata": {},
   "outputs": [],
   "source": [
    "# Enter a barcode to look up or uncomment one of the suggested values\n",
    "barcode = ''\n",
    "#barcode = '9780141032016'  #Book\n",
    "#barcode = '9780099558453'  #Book\n",
    "#barcode = '9780141039190'  #Book"
   ]
  },
  {
   "cell_type": "markdown",
   "metadata": {},
   "source": [
    "The UPC Lookup functionality is delivered as a REST API.  Run the below code to return information about your specified barcode"
   ]
  },
  {
   "cell_type": "code",
   "execution_count": 338,
   "metadata": {},
   "outputs": [
    {
     "name": "stdout",
     "output_type": "stream",
     "text": [
      "{\n",
      "    \"code\": \"OK\",\n",
      "    \"total\": 1,\n",
      "    \"offset\": 0,\n",
      "    \"items\": [\n",
      "        {\n",
      "            \"ean\": \"9780141039190\",\n",
      "            \"title\": \"Frederick the Great\",\n",
      "            \"description\": \"\",\n",
      "            \"isbn\": \"9780141039190\",\n",
      "            \"publisher\": \"Gardners Books\",\n",
      "            \"images\": [\n",
      "                \"https://pictures.abebooks.com/isbn/9780141039190-us.jpg\",\n",
      "                \"http://www0.alibris-static.com/isbn/9780141039190.gif\",\n",
      "                \"http://www0.alibris-static.com/isbn/9780141039190.gif\",\n",
      "                \"https://dut2up1aqgazz.cloudfront.net/70024743/9780141039190.jpg\",\n",
      "                \"\"\n",
      "            ],\n",
      "            \"offers\": [\n",
      "                {\n",
      "                    \"merchant\": \"eCampus.com\",\n",
      "                    \"domain\": \"ecampus.com\",\n",
      "                    \"title\": \"Frederick the Great\",\n",
      "                    \"currency\": \"\",\n",
      "                    \"list_price\": \"\",\n",
      "                    \"price\": 17.75,\n",
      "                    \"shipping\": \"\",\n",
      "                    \"condition\": \"New\",\n",
      "                    \"availability\": \"\",\n",
      "                    \"link\": \"http://www.ecampus.com/bk_detail.asp?isbn=9780141039190&referrer=CJ\",\n",
      "                    \"updated_t\": 1457594383\n",
      "                },\n",
      "                {\n",
      "                    \"merchant\": \"BiggerBooks.com\",\n",
      "                    \"domain\": \"biggerbooks.com\",\n",
      "                    \"title\": \"Frederick the Great\",\n",
      "                    \"currency\": \"\",\n",
      "                    \"list_price\": \"\",\n",
      "                    \"price\": 7.54,\n",
      "                    \"shipping\": \"\",\n",
      "                    \"condition\": \"New\",\n",
      "                    \"availability\": \"\",\n",
      "                    \"link\": \"http://www.biggerbooks.com/bk_detail.aspx?isbn=9780141039190&referrer=BBCJ\",\n",
      "                    \"updated_t\": 1457604665\n",
      "                },\n",
      "                {\n",
      "                    \"merchant\": \"Wordery\",\n",
      "                    \"domain\": \"wordery.com\",\n",
      "                    \"title\": \"Frederick the Great\",\n",
      "                    \"currency\": \"GBP\",\n",
      "                    \"list_price\": \"\",\n",
      "                    \"price\": 9.48,\n",
      "                    \"shipping\": \"\",\n",
      "                    \"condition\": \"New\",\n",
      "                    \"availability\": \"\",\n",
      "                    \"link\": \"https://wordery.com/frederick-the-great-tim-blanning-9780141039190\",\n",
      "                    \"updated_t\": 1479331461\n",
      "                },\n",
      "                {\n",
      "                    \"merchant\": \"Alibris\",\n",
      "                    \"domain\": \"alibris.com\",\n",
      "                    \"title\": \"frederick the great king of prussia\",\n",
      "                    \"currency\": \"\",\n",
      "                    \"list_price\": \"\",\n",
      "                    \"price\": 10.86,\n",
      "                    \"shipping\": \"\",\n",
      "                    \"condition\": \"New\",\n",
      "                    \"availability\": \"\",\n",
      "                    \"link\": \"http://www.alibris.com/search/books/isbn/9780141039190\",\n",
      "                    \"updated_t\": 1555596532\n",
      "                },\n",
      "                {\n",
      "                    \"merchant\": \"Alibris UK\",\n",
      "                    \"domain\": \"alibris.co.uk\",\n",
      "                    \"title\": \"frederick the great king of prussia\",\n",
      "                    \"currency\": \"GBP\",\n",
      "                    \"list_price\": \"\",\n",
      "                    \"price\": 17.86,\n",
      "                    \"shipping\": \"\",\n",
      "                    \"condition\": \"New\",\n",
      "                    \"availability\": \"\",\n",
      "                    \"link\": \"http://www.alibris.co.uk/search/books/isbn/9780141039190\",\n",
      "                    \"updated_t\": 1555596063\n",
      "                },\n",
      "                {\n",
      "                    \"merchant\": \"Abebooks\",\n",
      "                    \"domain\": \"abebooks.com\",\n",
      "                    \"title\": \"Frederick the Great\",\n",
      "                    \"currency\": \"\",\n",
      "                    \"list_price\": \"\",\n",
      "                    \"price\": 11.49,\n",
      "                    \"shipping\": \"\",\n",
      "                    \"condition\": \"New\",\n",
      "                    \"availability\": \"\",\n",
      "                    \"link\": \"http://www.upcitemdb.com/norob/alink/?id=u2u263t24303e474v2&tid=3&seq=1560952030&plt=29d4b3d4bbf5694411a1faadc646e729\",\n",
      "                    \"updated_t\": 1522309770\n",
      "                }\n",
      "            ]\n",
      "        }\n",
      "    ]\n",
      "}\n"
     ]
    }
   ],
   "source": [
    "import requests\n",
    "from requests.exceptions import HTTPError\n",
    "barcode_lookup_url = 'https://api.zebra.com/v2/tools/barcode/lookup?upc=' + barcode\n",
    "headers = {'apikey': api_key}\n",
    "\n",
    "try:\n",
    "    response = requests.get(url = barcode_lookup_url, headers = headers, params = {})\n",
    "    response.raise_for_status()\n",
    "except HTTPError as http_err:\n",
    "    print(f'HTTP error: {http_err}')\n",
    "    print(response.json())\n",
    "except Exception as err:\n",
    "    print(f'Other error: {err}')\n",
    "else:\n",
    "    print(json.dumps(response.json(), indent=4)) "
   ]
  },
  {
   "cell_type": "markdown",
   "metadata": {},
   "source": [
    "The following code will display the first returned image associated with the previously specified barcode"
   ]
  },
  {
   "cell_type": "code",
   "execution_count": 339,
   "metadata": {
    "scrolled": true
   },
   "outputs": [
    {
     "name": "stdout",
     "output_type": "stream",
     "text": [
      "Image: https://pictures.abebooks.com/isbn/9780141039190-us.jpg\n"
     ]
    },
    {
     "data": {
      "image/jpeg": "[encoded data removed]",
      "text/plain": [
       "<IPython.core.display.Image object>"
      ]
     },
     "execution_count": 339,
     "metadata": {
      "image/jpeg": {
       "width": 200
      }
     },
     "output_type": "execute_result"
    }
   ],
   "source": [
    "from IPython.display import Image\n",
    "response_json = response.json()\n",
    "if ('items' in response_json and 'images' in response_json['items'][0]):\n",
    "    print('Image: ' + response_json['items'][0]['images'][0])\n",
    "    photo_url = response_json['items'][0]['images'][0]\n",
    "else:\n",
    "    print('Image not found')\n",
    "    photo_url = \"https://www.zebra.com/gb/en/header/jcr:content/mainpar/header/navigationComponent/logoImage.adapt.full.png\"\n",
    "    \n",
    "Image(photo_url, width=200)\n",
    "\n"
   ]
  },
  {
   "cell_type": "markdown",
   "metadata": {},
   "source": [
    "## Create Barcode"
   ]
  },
  {
   "cell_type": "markdown",
   "metadata": {},
   "source": [
    "The [Create Barcode](https://developer.zebra.com/tools-create-barcode/apis) API will generate a barcode image from the specified barcode data.  \n",
    "\n",
    "*Many symbologies are supported but the code snippet below will work with EAN 13 barcodes using the barcode value specified in the previous step*"
   ]
  },
  {
   "cell_type": "code",
   "execution_count": 340,
   "metadata": {},
   "outputs": [
    {
     "name": "stdout",
     "output_type": "stream",
     "text": [
      "ok - barcode generated\n"
     ]
    },
    {
     "data": {
      "image/png": "[encoded data removed]",
      "text/plain": [
       "<IPython.core.display.Image object>"
      ]
     },
     "execution_count": 340,
     "metadata": {},
     "output_type": "execute_result"
    }
   ],
   "source": [
    "import requests\n",
    "from requests.exceptions import HTTPError\n",
    "from IPython.display import Image\n",
    "barcode_lookup_url = 'https://api.zebra.com/v2/tools/barcode/generate/?symbology=ean13&includeText=true&text=' + barcode\n",
    "headers = {'apikey': api_key}\n",
    "\n",
    "try:\n",
    "    response = requests.get(url = barcode_lookup_url, headers = headers, params = {})\n",
    "    response.raise_for_status()\n",
    "except HTTPError as http_err:\n",
    "    print(f'HTTP error: {http_err}')\n",
    "    print(response.json())\n",
    "except Exception as err:\n",
    "    print(f'Other error: {err}')\n",
    "else:\n",
    "    generated_barcode_binary = response.content\n",
    "    Image(generated_barcode_binary)\n",
    "    print('ok - barcode generated')\n",
    "    \n",
    "Image(generated_barcode_binary)"
   ]
  },
  {
   "cell_type": "markdown",
   "metadata": {},
   "source": [
    "## Food Recall\n"
   ]
  },
  {
   "cell_type": "markdown",
   "metadata": {},
   "source": [
    "You can search for food recall announcements by UPC"
   ]
  },
  {
   "cell_type": "code",
   "execution_count": 341,
   "metadata": {},
   "outputs": [],
   "source": [
    "# Specify the UPC to search for related FDA food recall announcements\n",
    "food_recall_upc = ''\n",
    "#food_recall_upc = '2324617054'   # Shrimp Rolls\n",
    "#food_recall_upc = '691035359586'  # Raisens"
   ]
  },
  {
   "cell_type": "code",
   "execution_count": 342,
   "metadata": {},
   "outputs": [
    {
     "name": "stdout",
     "output_type": "stream",
     "text": [
      "HTTP error: 400 Client Error: Bad Request for url: https://api.zebra.com/v2/tools/recalls/food/upc?limit=1&val=\n",
      "{'result': 'No valid `val` parameter provided.'}\n"
     ]
    }
   ],
   "source": [
    "import requests\n",
    "from requests.exceptions import HTTPError\n",
    "food_recall_url = 'https://api.zebra.com/v2/tools/recalls/food/upc?limit=1&val=' + food_recall_upc\n",
    "headers = {'apikey': api_key}\n",
    "\n",
    "try:\n",
    "    response = requests.get(url = food_recall_url, headers = headers, params = {})\n",
    "    response.raise_for_status()\n",
    "except HTTPError as http_err:\n",
    "    print(f'HTTP error: {http_err}')\n",
    "    print(response.json())\n",
    "except Exception as err:\n",
    "    print(f'Other error: {err}')\n",
    "else:\n",
    "    print(\"Food Recall information is listed below:\")\n",
    "    print(json.dumps(response.json(), indent=4))"
   ]
  },
  {
   "cell_type": "markdown",
   "metadata": {},
   "source": [
    "## Drug Recall"
   ]
  },
  {
   "cell_type": "markdown",
   "metadata": {},
   "source": [
    "You can search for medical recall information either by search term (for medical devices or drug recalls) or by specifying a UPC.  This sample shows a search for drug recalls related to the specified search term.  You can change how many results are returned by modifying the limit parameter in the URL."
   ]
  },
  {
   "cell_type": "code",
   "execution_count": 305,
   "metadata": {},
   "outputs": [],
   "source": [
    "# Specify a one word description to search for drug recalls about\n",
    "drug_search_term = ''\n",
    "#drug_search_term = 'head'\n",
    "#drug_search_term = 'stomach'"
   ]
  },
  {
   "cell_type": "code",
   "execution_count": 306,
   "metadata": {},
   "outputs": [
    {
     "name": "stdout",
     "output_type": "stream",
     "text": [
      "HTTP error: 400 Client Error: Bad Request for url: https://api.zebra.com/v2/tools/recalls/drug/description?limit=2&val=\n",
      "{'result': 'No `val` parameter provided.'}\n"
     ]
    }
   ],
   "source": [
    "import requests\n",
    "from requests.exceptions import HTTPError\n",
    "drug_recall_url = 'https://api.zebra.com/v2/tools/recalls/drug/description?limit=2&val=' + drug_search_term\n",
    "headers = {'apikey': api_key}\n",
    "\n",
    "try:\n",
    "    response = requests.get(url = drug_recall_url, headers = headers, params = {})\n",
    "    response.raise_for_status()\n",
    "except HTTPError as http_err:\n",
    "    print(f'HTTP error: {http_err}')\n",
    "    print(response.json())\n",
    "except Exception as err:\n",
    "    print(f'Other error: {err}')\n",
    "else:\n",
    "    print(\"Drug Recall information is listed below:\")\n",
    "    print(json.dumps(response.json(), indent=4))"
   ]
  },
  {
   "cell_type": "markdown",
   "metadata": {},
   "source": [
    "## What's next?"
   ]
  },
  {
   "cell_type": "markdown",
   "metadata": {},
   "source": [
    "Next, explore the [other APIs](https://developer.zebra.com/apis) available in Savanna or submit a new API suggestion to the [Sandbox](https://developer.zebra.com/sandbox-overview).\n",
    "\n",
    "If you have questions then please visit the [Developer Portal](https://developer.zebra.com)\n"
   ]
  }
 ],
 "metadata": {
  "kernelspec": {
   "display_name": "Python 3",
   "language": "python",
   "name": "python3"
  },
  "language_info": {
   "codemirror_mode": {
    "name": "ipython",
    "version": 3
   },
   "file_extension": ".py",
   "mimetype": "text/x-python",
   "name": "python",
   "nbconvert_exporter": "python",
   "pygments_lexer": "ipython3",
   "version": "3.7.3"
  }
 },
 "nbformat": 4,
 "nbformat_minor": 2
}
