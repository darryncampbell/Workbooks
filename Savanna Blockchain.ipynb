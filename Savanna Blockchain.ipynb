{
 "cells": [
  {
   "cell_type": "markdown",
   "metadata": {},
   "source": [
    "# Savanna Blockchain - Quickstart"
   ]
  },
  {
   "cell_type": "markdown",
   "metadata": {},
   "source": [
    "This notebook shows you how to get started with Zebra's Savanna APIs related to Blockchain\n",
    "- Blockchain Traceability - Basic"
   ]
  },
  {
   "cell_type": "markdown",
   "metadata": {},
   "source": [
    "## Setup"
   ]
  },
  {
   "cell_type": "markdown",
   "metadata": {},
   "source": [
    "- In order to run the sample code in this guide you will need an API key, to obtain an API key follow the instructions detailed on the Zebra developer portal at https://developer.zebra.com/getting-started-0\n",
    "- Once you have created a login to the developer portal and created an application you must ensure you have selected the Blockchain package and associated this with your application\n",
    "\n",
    "To run a cell:\n",
    "\n",
    "- Click anywhere in the code block.\n",
    "- Click the play button in the top-left of the code block"
   ]
  },
  {
   "cell_type": "code",
   "execution_count": null,
   "metadata": {},
   "outputs": [],
   "source": [
    "# Paste your API key below, this might also be called the 'Consumer Key' on the portal\n",
    "api_key = ''\n",
    "\n",
    "print(\"API Key is: \" + api_key)"
   ]
  },
  {
   "cell_type": "markdown",
   "metadata": {},
   "source": [
    "## Recording scan data in the Blockchain"
   ]
  },
  {
   "cell_type": "markdown",
   "metadata": {},
   "source": [
    "Transactions are added to the Blockchain through POST calls to the Savanna REST API, you can add RFID reads, Barcode Scans or Print jobs.\n",
    "\n",
    "This worksheet will demonstrate barcode scans in the blockchain but the principle is equally applicable to RFID and Printing"
   ]
  },
  {
   "cell_type": "code",
   "execution_count": null,
   "metadata": {},
   "outputs": [],
   "source": [
    "# Add a scan to the blockchain\n",
    "\n",
    "import uuid\n",
    "import requests\n",
    "import json\n",
    "from requests.exceptions import HTTPError\n",
    "from datetime import datetime\n",
    "\n",
    "# OPTIONALLY EDIT THESE\n",
    "device_id = \"TC83_3274984130\"      # Scoped to your application key\n",
    "barcode = \"9780141032016\"          # The barcode data being added to the blockchain\n",
    "# device_id = \"\"                   # Alternatively, configure your own barcode or device_id\n",
    "# barcode = \"9780141032016\"        # Alternatively, configure your own barcode or device_id\n",
    "# END OPTIONALLY EDIT THESE\n",
    "\n",
    "savanna_url = 'https://api.zebra.com/v2/zebra-blockchain/scan'\n",
    "savanna_headers = {'apikey': api_key, 'content-Type':'application/json', 'accept':'application/json', 'cache-control': 'no-cache'}\n",
    "\n",
    "# OPTIONAL: Define your custom data\n",
    "data =  {'eventId':'0213456498', 'latitude':'33.242536', 'longitude':'-117.316199', 'lookupData':'lookup'}\n",
    "# END OPTIONAL\n",
    "jsonData = json.dumps(data)\n",
    "body =  {\n",
    "        \"symbology\": \"upca\",\n",
    "        \"value\": barcode,\n",
    "        \"jsonData\": jsonData,\n",
    "        \"orgId\": \"string\",\n",
    "        \"timestamp\": str(datetime.timestamp(datetime.now())),\n",
    "        \"deviceId\": device_id,\n",
    "        \"type\": \"scantransaction\"\n",
    "    };\n",
    "jsonBody = json.dumps(body)\n",
    "\n",
    "print(\"Device ID:      \" + device_id)\n",
    "print(\"Barcode:        \" + barcode)\n",
    "print(\"API Key:        \" + api_key)\n",
    "\n",
    "try:\n",
    "    print(\"URL is: \" + savanna_url)\n",
    "    response = requests.post(url = savanna_url, headers = savanna_headers, data = jsonBody)\n",
    "    response.raise_for_status()\n",
    "except HTTPError as http_err:\n",
    "    print(f'HTTP error: {http_err}')\n",
    "    print(response.json())\n",
    "except Exception as err:\n",
    "    print(f'Other error: {err}')\n",
    "else:\n",
    "    print(json.dumps(response.json(), indent=4))"
   ]
  },
  {
   "cell_type": "markdown",
   "metadata": {},
   "source": [
    "## Retrieving Scan Transactions"
   ]
  },
  {
   "cell_type": "markdown",
   "metadata": {},
   "source": [
    "There are multiple ways to retrieve scan transactions from the blockchain:\n",
    "- All transactions (associated with the API key)\n",
    "- All transactions per device\n",
    "- All transactions per barcode\n",
    "- A specific transaction ID\n",
    "\n",
    "All retrieval functions are accomplished by GET calls to the Savanna REST API"
   ]
  },
  {
   "cell_type": "markdown",
   "metadata": {},
   "source": [
    "### Retrieve transactions for a specified barcode"
   ]
  },
  {
   "cell_type": "code",
   "execution_count": null,
   "metadata": {},
   "outputs": [],
   "source": [
    "import requests\n",
    "import json\n",
    "from requests.exceptions import HTTPError\n",
    "savanna_url = 'https://api.zebra.com/v2/zebra-blockchain/scan'\n",
    "savanna_headers = {'apikey': api_key, 'Content-Type':'application/json'}\n",
    "\n",
    "barcode = \"9780141032016\"          # Replace this value to search for a different barcode\n",
    "\n",
    "print(\"Barcode:        \" + barcode)\n",
    "print(\"API Key:        \" + api_key)\n",
    "\n",
    "savanna_url = savanna_url + \"/\" + barcode\n",
    "\n",
    "try:\n",
    "    print(\"URL is: \" + savanna_url)\n",
    "    response = requests.get(url = savanna_url, headers = savanna_headers, params = {})\n",
    "    response.raise_for_status()\n",
    "except HTTPError as http_err:\n",
    "    print(f'HTTP error: {http_err}')\n",
    "    print(response.json())\n",
    "except Exception as err:\n",
    "    print(f'Other error: {err}')\n",
    "else:\n",
    "    print(json.dumps(response.json(), indent=4))"
   ]
  },
  {
   "cell_type": "markdown",
   "metadata": {},
   "source": [
    "### Retrieve transactions for a specified device"
   ]
  },
  {
   "cell_type": "code",
   "execution_count": null,
   "metadata": {},
   "outputs": [],
   "source": [
    "import requests\n",
    "import json\n",
    "from requests.exceptions import HTTPError\n",
    "savanna_url = 'https://api.zebra.com/v2/zebra-blockchain/scan/device'\n",
    "savanna_headers = {'apikey': api_key, 'Content-Type':'application/json'}\n",
    "\n",
    "device_id = \"TC83_3274984130\"          # Replace this value to search for a different device\n",
    "\n",
    "print(\"Device ID:      \" + device_id)\n",
    "print(\"API Key:        \" + api_key)\n",
    "\n",
    "savanna_url = savanna_url + \"/\" + device_id\n",
    "\n",
    "try:\n",
    "    print(\"URL is: \" + savanna_url)\n",
    "    response = requests.get(url = savanna_url, headers = savanna_headers, params = {})\n",
    "    response.raise_for_status()\n",
    "except HTTPError as http_err:\n",
    "    print(f'HTTP error: {http_err}')\n",
    "    print(response.json())\n",
    "except Exception as err:\n",
    "    print(f'Other error: {err}')\n",
    "else:\n",
    "    print(json.dumps(response.json(), indent=4))"
   ]
  },
  {
   "cell_type": "markdown",
   "metadata": {},
   "source": [
    "### Retrieve a specific transaction"
   ]
  },
  {
   "cell_type": "code",
   "execution_count": null,
   "metadata": {},
   "outputs": [],
   "source": [
    "import requests\n",
    "import json\n",
    "from requests.exceptions import HTTPError\n",
    "savanna_url = 'https://api.zebra.com/v2/zebra-blockchain/scan/transaction'\n",
    "savanna_headers = {'apikey': api_key, 'Content-Type':'application/json'}\n",
    "\n",
    "transaction_id = ''  # IMPORTANT: You need to specify a transaction ID, \n",
    "                     # this is given in the output from any of the above calls as the 'id' parameter\n",
    "\n",
    "print(\"Transaction ID: \" + transaction_id)\n",
    "print(\"API Key:        \" + api_key)\n",
    "\n",
    "savanna_url = savanna_url + \"/\" + transaction_id\n",
    "\n",
    "try:\n",
    "    print(\"URL is: \" + savanna_url)\n",
    "    response = requests.get(url = savanna_url, headers = savanna_headers, params = {})\n",
    "    response.raise_for_status()\n",
    "except HTTPError as http_err:\n",
    "    print(f'HTTP error: {http_err}')\n",
    "    print(response.json())\n",
    "except Exception as err:\n",
    "    print(f'Other error: {err}')\n",
    "else:\n",
    "    print(json.dumps(response.json(), indent=4))"
   ]
  },
  {
   "cell_type": "markdown",
   "metadata": {},
   "source": [
    "### Retrieve all transactions associated with this API key"
   ]
  },
  {
   "cell_type": "code",
   "execution_count": null,
   "metadata": {},
   "outputs": [],
   "source": [
    "import requests\n",
    "import json\n",
    "from requests.exceptions import HTTPError\n",
    "savanna_url = 'https://api.zebra.com/v2/zebra-blockchain/scan'\n",
    "savanna_headers = {'apikey': api_key, 'Content-Type':'application/json'}\n",
    "\n",
    "print(\"API Key:        \" + api_key)\n",
    "\n",
    "# No need to specify any extra data here since everything is returned\n",
    "\n",
    "try:\n",
    "    print(\"URL is: \" + savanna_url)\n",
    "    response = requests.get(url = savanna_url, headers = savanna_headers, params = {})\n",
    "    response.raise_for_status()\n",
    "except HTTPError as http_err:\n",
    "    print(f'HTTP error: {http_err}')\n",
    "    print(response.json())\n",
    "except Exception as err:\n",
    "    print(f'Other error: {err}')\n",
    "else:\n",
    "    print(json.dumps(response.json(), indent=4))"
   ]
  },
  {
   "cell_type": "markdown",
   "metadata": {},
   "source": [
    "## Putting it all together"
   ]
  },
  {
   "cell_type": "markdown",
   "metadata": {},
   "source": [
    "You are able to add additional scans to the blockchain and modify the barcode or device parameters to simulate either the same device scanning multiple items or simulate the same item being scanned by multiple devices respectively.  Using the retrieve functions listed above you can trace the history of these simulated devices or items"
   ]
  },
  {
   "cell_type": "markdown",
   "metadata": {},
   "source": [
    "## What's next?"
   ]
  },
  {
   "cell_type": "markdown",
   "metadata": {},
   "source": [
    "Next, explore the [other APIs](https://developer.zebra.com/apis) available in Savanna or submit a new API suggestion to the [Sandbox](https://developer.zebra.com/sandbox-overview).\n",
    "\n",
    "If you have questions then please visit the [Developer Portal](https://developer.zebra.com)"
   ]
  }
 ],
 "metadata": {
  "kernelspec": {
   "display_name": "Python 3",
   "language": "python",
   "name": "python3"
  },
  "language_info": {
   "codemirror_mode": {
    "name": "ipython",
    "version": 3
   },
   "file_extension": ".py",
   "mimetype": "text/x-python",
   "name": "python",
   "nbconvert_exporter": "python",
   "pygments_lexer": "ipython3",
   "version": "3.7.3"
  }
 },
 "nbformat": 4,
 "nbformat_minor": 2
}
